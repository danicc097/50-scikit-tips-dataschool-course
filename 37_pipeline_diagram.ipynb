{
 "cells": [
  {
   "cell_type": "markdown",
   "metadata": {},
   "source": [
    "[![Open in Binder](https://mybinder.org/badge_logo.svg)](https://mybinder.org/v2/gh/justmarkham/scikit-learn-tips/master?filepath=notebooks%2F37_pipeline_diagram.ipynb)\n",
    "\n",
    "[![Open in Colab](https://colab.research.google.com/assets/colab-badge.svg)](https://colab.research.google.com/github/justmarkham/scikit-learn-tips/blob/master/notebooks/37_pipeline_diagram.ipynb)\n",
    "\n",
    "# 🤖⚡ scikit-learn tip #37:\n",
    "\n",
    "New in version 0.23: Create interactive diagrams of Pipelines (and other estimators) in Jupyter!\n",
    "\n",
    "Click on any element to see more details. You can even export the diagram to an HTML file!\n",
    "\n",
    "See example 👇"
   ]
  },
  {
   "cell_type": "code",
   "execution_count": 1,
   "metadata": {},
   "outputs": [],
   "source": [
    "import pandas as pd\n",
    "from sklearn.impute import SimpleImputer\n",
    "from sklearn.preprocessing import OneHotEncoder\n",
    "from sklearn.feature_extraction.text import CountVectorizer\n",
    "from sklearn.feature_selection import SelectPercentile, chi2\n",
    "from sklearn.linear_model import LogisticRegression\n",
    "from sklearn.compose import make_column_transformer\n",
    "from sklearn.pipeline import make_pipeline"
   ]
  },
  {
   "cell_type": "code",
   "execution_count": 2,
   "metadata": {},
   "outputs": [],
   "source": [
    "df = pd.read_csv('http://bit.ly/kaggletrain')\n",
    "X = df[['Parch', 'Fare', 'Embarked', 'Sex', 'Name', 'Age']]\n",
    "y = df['Survived']"
   ]
  },
  {
   "cell_type": "code",
   "execution_count": 3,
   "metadata": {},
   "outputs": [],
   "source": [
    "imp_constant = SimpleImputer(strategy='constant')\n",
    "ohe = OneHotEncoder()"
   ]
  },
  {
   "cell_type": "code",
   "execution_count": 4,
   "metadata": {},
   "outputs": [],
   "source": [
    "imp_ohe = make_pipeline(imp_constant, ohe)\n",
    "vect = CountVectorizer()\n",
    "imp = SimpleImputer()"
   ]
  },
  {
   "cell_type": "code",
   "execution_count": 5,
   "metadata": {},
   "outputs": [],
   "source": [
    "# pipeline step 1\n",
    "ct = make_column_transformer(\n",
    "    (imp_ohe, ['Embarked', 'Sex']),\n",
    "    (vect, 'Name'),\n",
    "    (imp, ['Age', 'Fare']),\n",
    "    ('passthrough', ['Parch']))"
   ]
  },
  {
   "cell_type": "code",
   "execution_count": 6,
   "metadata": {},
   "outputs": [],
   "source": [
    "# pipeline step 2\n",
    "selection = SelectPercentile(chi2, percentile=50)"
   ]
  },
  {
   "cell_type": "code",
   "execution_count": 7,
   "metadata": {},
   "outputs": [],
   "source": [
    "# pipeline step 3\n",
    "logreg = LogisticRegression(solver='liblinear')"
   ]
  },
  {
   "cell_type": "code",
   "execution_count": 8,
   "metadata": {},
   "outputs": [],
   "source": [
    "# display estimators as diagrams\n",
    "from sklearn import set_config\n",
    "set_config(display='diagram')"
   ]
  },
  {
   "cell_type": "code",
   "execution_count": 9,
   "metadata": {},
   "outputs": [
    {
     "data": {
      "text/html": [
       "<style>#sk-265ec8e8-e60a-4000-a5fa-d7c9da2c218b {color: black;background-color: white;}#sk-265ec8e8-e60a-4000-a5fa-d7c9da2c218b pre{padding: 0;}#sk-265ec8e8-e60a-4000-a5fa-d7c9da2c218b div.sk-toggleable {background-color: white;}#sk-265ec8e8-e60a-4000-a5fa-d7c9da2c218b label.sk-toggleable__label {cursor: pointer;display: block;width: 100%;margin-bottom: 0;padding: 0.3em;box-sizing: border-box;text-align: center;}#sk-265ec8e8-e60a-4000-a5fa-d7c9da2c218b div.sk-toggleable__content {max-height: 0;max-width: 0;overflow: hidden;text-align: left;background-color: #f0f8ff;}#sk-265ec8e8-e60a-4000-a5fa-d7c9da2c218b div.sk-toggleable__content pre {margin: 0.2em;color: black;border-radius: 0.25em;background-color: #f0f8ff;}#sk-265ec8e8-e60a-4000-a5fa-d7c9da2c218b input.sk-toggleable__control:checked~div.sk-toggleable__content {max-height: 200px;max-width: 100%;overflow: auto;}#sk-265ec8e8-e60a-4000-a5fa-d7c9da2c218b div.sk-estimator input.sk-toggleable__control:checked~label.sk-toggleable__label {background-color: #d4ebff;}#sk-265ec8e8-e60a-4000-a5fa-d7c9da2c218b div.sk-label input.sk-toggleable__control:checked~label.sk-toggleable__label {background-color: #d4ebff;}#sk-265ec8e8-e60a-4000-a5fa-d7c9da2c218b input.sk-hidden--visually {border: 0;clip: rect(1px 1px 1px 1px);clip: rect(1px, 1px, 1px, 1px);height: 1px;margin: -1px;overflow: hidden;padding: 0;position: absolute;width: 1px;}#sk-265ec8e8-e60a-4000-a5fa-d7c9da2c218b div.sk-estimator {font-family: monospace;background-color: #f0f8ff;border: 1px dotted black;border-radius: 0.25em;box-sizing: border-box;margin-bottom: 0.5em;}#sk-265ec8e8-e60a-4000-a5fa-d7c9da2c218b div.sk-estimator:hover {background-color: #d4ebff;}#sk-265ec8e8-e60a-4000-a5fa-d7c9da2c218b div.sk-parallel-item::after {content: \"\";width: 100%;border-bottom: 1px solid gray;flex-grow: 1;}#sk-265ec8e8-e60a-4000-a5fa-d7c9da2c218b div.sk-label:hover label.sk-toggleable__label {background-color: #d4ebff;}#sk-265ec8e8-e60a-4000-a5fa-d7c9da2c218b div.sk-serial::before {content: \"\";position: absolute;border-left: 1px solid gray;box-sizing: border-box;top: 2em;bottom: 0;left: 50%;}#sk-265ec8e8-e60a-4000-a5fa-d7c9da2c218b div.sk-serial {display: flex;flex-direction: column;align-items: center;background-color: white;padding-right: 0.2em;padding-left: 0.2em;}#sk-265ec8e8-e60a-4000-a5fa-d7c9da2c218b div.sk-item {z-index: 1;}#sk-265ec8e8-e60a-4000-a5fa-d7c9da2c218b div.sk-parallel {display: flex;align-items: stretch;justify-content: center;background-color: white;}#sk-265ec8e8-e60a-4000-a5fa-d7c9da2c218b div.sk-parallel::before {content: \"\";position: absolute;border-left: 1px solid gray;box-sizing: border-box;top: 2em;bottom: 0;left: 50%;}#sk-265ec8e8-e60a-4000-a5fa-d7c9da2c218b div.sk-parallel-item {display: flex;flex-direction: column;position: relative;background-color: white;}#sk-265ec8e8-e60a-4000-a5fa-d7c9da2c218b div.sk-parallel-item:first-child::after {align-self: flex-end;width: 50%;}#sk-265ec8e8-e60a-4000-a5fa-d7c9da2c218b div.sk-parallel-item:last-child::after {align-self: flex-start;width: 50%;}#sk-265ec8e8-e60a-4000-a5fa-d7c9da2c218b div.sk-parallel-item:only-child::after {width: 0;}#sk-265ec8e8-e60a-4000-a5fa-d7c9da2c218b div.sk-dashed-wrapped {border: 1px dashed gray;margin: 0 0.4em 0.5em 0.4em;box-sizing: border-box;padding-bottom: 0.4em;background-color: white;position: relative;}#sk-265ec8e8-e60a-4000-a5fa-d7c9da2c218b div.sk-label label {font-family: monospace;font-weight: bold;background-color: white;display: inline-block;line-height: 1.2em;}#sk-265ec8e8-e60a-4000-a5fa-d7c9da2c218b div.sk-label-container {position: relative;z-index: 2;text-align: center;}#sk-265ec8e8-e60a-4000-a5fa-d7c9da2c218b div.sk-container {display: inline-block;position: relative;}</style><div id=\"sk-265ec8e8-e60a-4000-a5fa-d7c9da2c218b\" class\"sk-top-container\"><div class=\"sk-container\"><div class=\"sk-item sk-dashed-wrapped\"><div class=\"sk-label-container\"><div class=\"sk-label sk-toggleable\"><input class=\"sk-toggleable__control sk-hidden--visually\" id=\"23bb769d-9dbd-45d2-bcd6-402f41f5b644\" type=\"checkbox\" ><label class=\"sk-toggleable__label\" for=\"23bb769d-9dbd-45d2-bcd6-402f41f5b644\">Pipeline</label><div class=\"sk-toggleable__content\"><pre>Pipeline(steps=[('columntransformer',\n",
       "                 ColumnTransformer(transformers=[('pipeline',\n",
       "                                                  Pipeline(steps=[('simpleimputer',\n",
       "                                                                   SimpleImputer(strategy='constant')),\n",
       "                                                                  ('onehotencoder',\n",
       "                                                                   OneHotEncoder())]),\n",
       "                                                  ['Embarked', 'Sex']),\n",
       "                                                 ('countvectorizer',\n",
       "                                                  CountVectorizer(), 'Name'),\n",
       "                                                 ('simpleimputer',\n",
       "                                                  SimpleImputer(),\n",
       "                                                  ['Age', 'Fare']),\n",
       "                                                 ('passthrough', 'passthrough',\n",
       "                                                  ['Parch'])])),\n",
       "                ('selectpercentile',\n",
       "                 SelectPercentile(percentile=50,\n",
       "                                  score_func=<function chi2 at 0x000001DED796E280>)),\n",
       "                ('logisticregression', LogisticRegression(solver='liblinear'))])</pre></div></div></div><div class=\"sk-serial\"><div class=\"sk-item sk-dashed-wrapped\"><div class=\"sk-label-container\"><div class=\"sk-label sk-toggleable\"><input class=\"sk-toggleable__control sk-hidden--visually\" id=\"35bdd8db-b51c-4de8-b8d8-00ac259bdacb\" type=\"checkbox\" ><label class=\"sk-toggleable__label\" for=\"35bdd8db-b51c-4de8-b8d8-00ac259bdacb\">columntransformer: ColumnTransformer</label><div class=\"sk-toggleable__content\"><pre>ColumnTransformer(transformers=[('pipeline',\n",
       "                                 Pipeline(steps=[('simpleimputer',\n",
       "                                                  SimpleImputer(strategy='constant')),\n",
       "                                                 ('onehotencoder',\n",
       "                                                  OneHotEncoder())]),\n",
       "                                 ['Embarked', 'Sex']),\n",
       "                                ('countvectorizer', CountVectorizer(), 'Name'),\n",
       "                                ('simpleimputer', SimpleImputer(),\n",
       "                                 ['Age', 'Fare']),\n",
       "                                ('passthrough', 'passthrough', ['Parch'])])</pre></div></div></div><div class=\"sk-parallel\"><div class=\"sk-parallel-item\"><div class=\"sk-item\"><div class=\"sk-label-container\"><div class=\"sk-label sk-toggleable\"><input class=\"sk-toggleable__control sk-hidden--visually\" id=\"90bd27c7-d30c-4e69-8061-1f2bc9ce802d\" type=\"checkbox\" ><label class=\"sk-toggleable__label\" for=\"90bd27c7-d30c-4e69-8061-1f2bc9ce802d\">pipeline</label><div class=\"sk-toggleable__content\"><pre>['Embarked', 'Sex']</pre></div></div></div><div class=\"sk-serial\"><div class=\"sk-item\"><div class=\"sk-serial\"><div class=\"sk-item\"><div class=\"sk-estimator sk-toggleable\"><input class=\"sk-toggleable__control sk-hidden--visually\" id=\"12691847-6971-4674-a78c-3a99a5134dc9\" type=\"checkbox\" ><label class=\"sk-toggleable__label\" for=\"12691847-6971-4674-a78c-3a99a5134dc9\">SimpleImputer</label><div class=\"sk-toggleable__content\"><pre>SimpleImputer(strategy='constant')</pre></div></div></div><div class=\"sk-item\"><div class=\"sk-estimator sk-toggleable\"><input class=\"sk-toggleable__control sk-hidden--visually\" id=\"7b03cdb1-5e57-42b7-aec1-ff961f284351\" type=\"checkbox\" ><label class=\"sk-toggleable__label\" for=\"7b03cdb1-5e57-42b7-aec1-ff961f284351\">OneHotEncoder</label><div class=\"sk-toggleable__content\"><pre>OneHotEncoder()</pre></div></div></div></div></div></div></div></div><div class=\"sk-parallel-item\"><div class=\"sk-item\"><div class=\"sk-label-container\"><div class=\"sk-label sk-toggleable\"><input class=\"sk-toggleable__control sk-hidden--visually\" id=\"d8f61136-9da5-4813-93c2-019fb976641d\" type=\"checkbox\" ><label class=\"sk-toggleable__label\" for=\"d8f61136-9da5-4813-93c2-019fb976641d\">countvectorizer</label><div class=\"sk-toggleable__content\"><pre>Name</pre></div></div></div><div class=\"sk-serial\"><div class=\"sk-item\"><div class=\"sk-estimator sk-toggleable\"><input class=\"sk-toggleable__control sk-hidden--visually\" id=\"f9a6884e-1a19-4eba-9b3d-b1337f11356c\" type=\"checkbox\" ><label class=\"sk-toggleable__label\" for=\"f9a6884e-1a19-4eba-9b3d-b1337f11356c\">CountVectorizer</label><div class=\"sk-toggleable__content\"><pre>CountVectorizer()</pre></div></div></div></div></div></div><div class=\"sk-parallel-item\"><div class=\"sk-item\"><div class=\"sk-label-container\"><div class=\"sk-label sk-toggleable\"><input class=\"sk-toggleable__control sk-hidden--visually\" id=\"154db1eb-6dae-4911-b102-565c763c0678\" type=\"checkbox\" ><label class=\"sk-toggleable__label\" for=\"154db1eb-6dae-4911-b102-565c763c0678\">simpleimputer</label><div class=\"sk-toggleable__content\"><pre>['Age', 'Fare']</pre></div></div></div><div class=\"sk-serial\"><div class=\"sk-item\"><div class=\"sk-estimator sk-toggleable\"><input class=\"sk-toggleable__control sk-hidden--visually\" id=\"0cd90081-e422-40b4-abae-06ba8db4e79c\" type=\"checkbox\" ><label class=\"sk-toggleable__label\" for=\"0cd90081-e422-40b4-abae-06ba8db4e79c\">SimpleImputer</label><div class=\"sk-toggleable__content\"><pre>SimpleImputer()</pre></div></div></div></div></div></div><div class=\"sk-parallel-item\"><div class=\"sk-item\"><div class=\"sk-label-container\"><div class=\"sk-label sk-toggleable\"><input class=\"sk-toggleable__control sk-hidden--visually\" id=\"a722837d-616e-4698-85b3-99252d8f6965\" type=\"checkbox\" ><label class=\"sk-toggleable__label\" for=\"a722837d-616e-4698-85b3-99252d8f6965\">passthrough</label><div class=\"sk-toggleable__content\"><pre>['Parch']</pre></div></div></div><div class=\"sk-serial\"><div class=\"sk-item\"><div class=\"sk-estimator sk-toggleable\"><input class=\"sk-toggleable__control sk-hidden--visually\" id=\"9fdfad9f-dbe8-4041-a43a-c346b93c0251\" type=\"checkbox\" ><label class=\"sk-toggleable__label\" for=\"9fdfad9f-dbe8-4041-a43a-c346b93c0251\">passthrough</label><div class=\"sk-toggleable__content\"><pre>passthrough</pre></div></div></div></div></div></div></div></div><div class=\"sk-item\"><div class=\"sk-estimator sk-toggleable\"><input class=\"sk-toggleable__control sk-hidden--visually\" id=\"aa5bb920-c8f7-424f-a5af-5e0d4f2bdb48\" type=\"checkbox\" ><label class=\"sk-toggleable__label\" for=\"aa5bb920-c8f7-424f-a5af-5e0d4f2bdb48\">SelectPercentile</label><div class=\"sk-toggleable__content\"><pre>SelectPercentile(percentile=50,\n",
       "                 score_func=<function chi2 at 0x000001DED796E280>)</pre></div></div></div><div class=\"sk-item\"><div class=\"sk-estimator sk-toggleable\"><input class=\"sk-toggleable__control sk-hidden--visually\" id=\"ef67cb44-3875-4761-aaef-4a8731bc608e\" type=\"checkbox\" ><label class=\"sk-toggleable__label\" for=\"ef67cb44-3875-4761-aaef-4a8731bc608e\">LogisticRegression</label><div class=\"sk-toggleable__content\"><pre>LogisticRegression(solver='liblinear')</pre></div></div></div></div></div></div></div>"
      ],
      "text/plain": [
       "Pipeline(steps=[('columntransformer',\n",
       "                 ColumnTransformer(transformers=[('pipeline',\n",
       "                                                  Pipeline(steps=[('simpleimputer',\n",
       "                                                                   SimpleImputer(strategy='constant')),\n",
       "                                                                  ('onehotencoder',\n",
       "                                                                   OneHotEncoder())]),\n",
       "                                                  ['Embarked', 'Sex']),\n",
       "                                                 ('countvectorizer',\n",
       "                                                  CountVectorizer(), 'Name'),\n",
       "                                                 ('simpleimputer',\n",
       "                                                  SimpleImputer(),\n",
       "                                                  ['Age', 'Fare']),\n",
       "                                                 ('passthrough', 'passthrough',\n",
       "                                                  ['Parch'])])),\n",
       "                ('selectpercentile',\n",
       "                 SelectPercentile(percentile=50,\n",
       "                                  score_func=<function chi2 at 0x000001DED796E280>)),\n",
       "                ('logisticregression', LogisticRegression(solver='liblinear'))])"
      ]
     },
     "execution_count": 9,
     "metadata": {},
     "output_type": "execute_result"
    }
   ],
   "source": [
    "pipe = make_pipeline(ct, selection, logreg)\n",
    "pipe"
   ]
  },
  {
   "cell_type": "code",
   "execution_count": 10,
   "metadata": {},
   "outputs": [],
   "source": [
    "# export the diagram to a file\n",
    "from sklearn.utils import estimator_html_repr\n",
    "with open('pipeline.html', 'w') as f:  \n",
    "    f.write(estimator_html_repr(pipe))"
   ]
  },
  {
   "cell_type": "markdown",
   "metadata": {},
   "source": [
    "### Want more tips? [View all tips on GitHub](https://github.com/justmarkham/scikit-learn-tips) or [Sign up to receive 5 tips by email every week](https://scikit-learn.tips) 💌\n",
    "\n",
    "© 2020 [Data School](https://www.dataschool.io). All rights reserved."
   ]
  }
 ],
 "metadata": {
  "interpreter": {
   "hash": "1d5c8004a3ce8eda8b3c804d9ab17578d034fbd8862bb53bd4fd210b9b760bdf"
  },
  "kernelspec": {
   "display_name": "Python 3.9.5 64-bit ('50-scikit-tips-dataschool-course-K4Ei04gK': pipenv)",
   "name": "python3"
  },
  "language_info": {
   "codemirror_mode": {
    "name": "ipython",
    "version": 3
   },
   "file_extension": ".py",
   "mimetype": "text/x-python",
   "name": "python",
   "nbconvert_exporter": "python",
   "pygments_lexer": "ipython3",
   "version": "3.9.5"
  }
 },
 "nbformat": 4,
 "nbformat_minor": 4
}
